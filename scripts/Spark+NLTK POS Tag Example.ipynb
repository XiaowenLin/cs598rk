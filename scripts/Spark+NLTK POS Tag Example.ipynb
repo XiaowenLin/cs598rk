{
 "cells": [
  {
   "cell_type": "code",
   "execution_count": 1,
   "metadata": {
    "collapsed": false
   },
   "outputs": [
    {
     "name": "stdout",
     "output_type": "stream",
     "text": [
      "[u'Address', u'on', u'the', u'State', u'of', u'the', u'Union', u'Delivered', u'Before', u'a']\n",
      "[[(u'Address', 'NN')], [(u'on', 'IN')], [(u'the', 'DT')], [(u'State', 'NN')], [(u'of', 'IN')]]\n"
     ]
    }
   ],
   "source": [
    "from pyspark import SparkContext, SparkConf, SQLContext, HiveContext, StorageLevel\n",
    "from pyspark.sql.functions import *\n",
    "sc = SparkContext()\n",
    "\n",
    "data = sc.textFile('../../nltk_data/corpora/state_union/1972-Nixon.txt')\n",
    "\n",
    "import nltk\n",
    "\n",
    "words = data.flatMap(lambda x: nltk.word_tokenize(x))\n",
    "print words.take(10)\n",
    "\n",
    "pos_word = words.map(lambda x: nltk.pos_tag([x]))\n"
   ]
  },
  {
   "cell_type": "code",
   "execution_count": 2,
   "metadata": {
    "collapsed": false
   },
   "outputs": [
    {
     "name": "stdout",
     "output_type": "stream",
     "text": [
      "[[(u'Address', 'NN')], [(u'on', 'IN')], [(u'the', 'DT')], [(u'State', 'NN')], [(u'of', 'IN')], [(u'the', 'DT')], [(u'Union', 'NNP')], [(u'Delivered', 'VBN')], [(u'Before', 'IN')], [(u'a', 'DT')], [(u'Joint', 'JJ')], [(u'Session', 'NN')], [(u'of', 'IN')], [(u'the', 'DT')], [(u'Congress', 'NNP')], [(u'.', '.')], [(u'January', 'NNP')], [(u'20', 'CD')], [(u',', ',')], [(u'1972', 'CD')], [(u'Mr.', 'NNP')], [(u'Speaker', 'NN')], [(u',', ',')], [(u'Mr.', 'NNP')], [(u'President', 'NNP')], [(u',', ',')], [(u'my', 'PRP$')], [(u'colleagues', 'NNS')], [(u'in', 'IN')], [(u'the', 'DT')], [(u'Congress', 'NNP')], [(u',', ',')], [(u'our', 'PRP$')], [(u'distinguished', 'VBN')], [(u'guests', 'NNS')], [(u',', ',')], [(u'my', 'PRP$')], [(u'fellow', 'NN')], [(u'Americans', 'NNS')], [(u':', ':')], [(u'\\ufffd', 'NN')], [(u'@', 'NN')], [(u'Twenty-five', 'JJ')], [(u'years', 'NNS')], [(u'ago', 'RB')], [(u'I', 'PRP')], [(u'sat', 'NN')], [(u'here', 'RB')], [(u'as', 'IN')], [(u'a', 'DT')]]\n"
     ]
    }
   ],
   "source": [
    "print pos_word.take(50)"
   ]
  },
  {
   "cell_type": "code",
   "execution_count": null,
   "metadata": {
    "collapsed": true
   },
   "outputs": [],
   "source": []
  }
 ],
 "metadata": {
  "kernelspec": {
   "display_name": "Python 2",
   "language": "python",
   "name": "python2"
  },
  "language_info": {
   "codemirror_mode": {
    "name": "ipython",
    "version": 2
   },
   "file_extension": ".py",
   "mimetype": "text/x-python",
   "name": "python",
   "nbconvert_exporter": "python",
   "pygments_lexer": "ipython2",
   "version": "2.7.10"
  }
 },
 "nbformat": 4,
 "nbformat_minor": 0
}
