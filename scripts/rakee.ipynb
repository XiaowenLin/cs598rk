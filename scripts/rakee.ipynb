{
 "cells": [
  {
   "cell_type": "code",
   "execution_count": 2,
   "metadata": {
    "collapsed": true
   },
   "outputs": [],
   "source": [
    "from pyspark import SparkContext\n",
    "sc = SparkContext()"
   ]
  },
  {
   "cell_type": "code",
   "execution_count": 20,
   "metadata": {
    "collapsed": false
   },
   "outputs": [],
   "source": [
    "from rake import *\n",
    "from np_extractor import *\n",
    "import json\n",
    "rake = Rake('../data/MergedStopList.txt') "
   ]
  },
  {
   "cell_type": "code",
   "execution_count": 4,
   "metadata": {
    "collapsed": false
   },
   "outputs": [],
   "source": [
    "nas = sc.textFile(\"NAS_200.txt\")"
   ]
  },
  {
   "cell_type": "code",
   "execution_count": 14,
   "metadata": {
    "collapsed": false
   },
   "outputs": [],
   "source": [
    "pre_kw = nas.map(lambda x: rake.run(x))"
   ]
  },
  {
   "cell_type": "code",
   "execution_count": 15,
   "metadata": {
    "collapsed": false
   },
   "outputs": [
    {
     "data": {
      "text/plain": [
       "[[(u'500 gb hitachi deskstar drives', 16.0),\n",
       "  (u'stopped posting firmware updates', 14.5),\n",
       "  (u'hardware installation instructions', 9.0),\n",
       "  (u'hard drive removed', 9.0),\n",
       "  (u'assorted digital detritus', 9.0),\n",
       "  (u'playing hot potato', 9.0),\n",
       "  (u'linkstation quad defaults', 7.6),\n",
       "  (u'purchase buffalo products', 7.25),\n",
       "  (u'buffalo products', 4.25),\n",
       "  (u'greatly diminished', 4.0),\n",
       "  (u'media server', 4.0),\n",
       "  (u'web interface', 4.0),\n",
       "  (u'tech support', 4.0),\n",
       "  (u'usb devices', 4.0),\n",
       "  (u'started noticing', 4.0),\n",
       "  (u'copied directly', 4.0),\n",
       "  (u'rock-solid reliable', 4.0),\n",
       "  (u'perfectly sized', 4.0),\n",
       "  (u'real shame', 4.0),\n",
       "  (u'default position', 4.0),\n",
       "  (u'web browser', 4.0),\n",
       "  (u'stream videos', 3.5),\n",
       "  (u'unexplainable reason', 3.5),\n",
       "  (u'manually configure', 3.5),\n",
       "  (u'fit comfortably', 3.5),\n",
       "  (u'home server', 3.5),\n",
       "  (u'software firewall', 3.25),\n",
       "  (u'linkstation appears', 3.1),\n",
       "  (u'samsung television', 3.0),\n",
       "  (u'firmware', 2.5),\n",
       "  (u'buffalo', 1.75),\n",
       "  (u'linkstation', 1.6),\n",
       "  (u'fit', 1.5),\n",
       "  (u'home', 1.5),\n",
       "  (u'reason', 1.5),\n",
       "  (u'appears', 1.5),\n",
       "  (u'configure', 1.5),\n",
       "  (u'television', 1.5),\n",
       "  (u'videos', 1.5),\n",
       "  (u'samsung', 1.5),\n",
       "  (u'software', 1.25),\n",
       "  (u'raid 5', 1.0),\n",
       "  (u'fine', 1.0),\n",
       "  (u'issues', 1.0),\n",
       "  (u'source', 1.0),\n",
       "  (u'won', 1.0),\n",
       "  (u'return', 1.0),\n",
       "  (u'straightforward', 1.0),\n",
       "  (u'auto', 1.0),\n",
       "  (u'notes', 1.0),\n",
       "  (u'didn', 1.0),\n",
       "  (u'steps', 1.0),\n",
       "  (u'found', 1.0),\n",
       "  (u'wrote', 1.0),\n",
       "  (u'dealing', 1.0),\n",
       "  (u'blurred', 1.0),\n",
       "  (u'unexpectedly', 1.0),\n",
       "  (u'living', 1.0),\n",
       "  (u'network', 1.0),\n",
       "  (u'/', 1.0),\n",
       "  (u'label', 1.0),\n",
       "  (u'access', 1.0),\n",
       "  (u'unable', 1.0),\n",
       "  (u'issue', 1.0),\n",
       "  (u'correct', 1.0),\n",
       "  (u'bought', 1.0),\n",
       "  (u'power', 1.0),\n",
       "  (u'built-', 1.0),\n",
       "  (u'box', 1.0),\n",
       "  (u'experience', 1.0),\n",
       "  (u'compatible', 1.0),\n",
       "  (u'dissatisfaction', 1.0),\n",
       "  (u'satisfaction', 1.0),\n",
       "  (u'accumulated', 1.0),\n",
       "  (u'pc', 1.0),\n",
       "  (u'assumed', 1.0),\n",
       "  (u'noticed', 1.0),\n",
       "  (u'music', 1.0),\n",
       "  (u'buggy', 1.0),\n",
       "  (u'photos', 1.0),\n",
       "  (u'manual/auto', 1.0),\n",
       "  (u'bookshelf', 1.0),\n",
       "  (u'copy', 1.0),\n",
       "  (u'disabling', 1.0),\n",
       "  (u'buying', 1.0),\n",
       "  (u'past', 1.0),\n",
       "  (u'bother', 1.0),\n",
       "  (u'future', 1.0),\n",
       "  (u'install', 1.0),\n",
       "  (u'purchased', 1.0),\n",
       "  (u'mine', 1.0),\n",
       "  (u'file', 1.0),\n",
       "  (u'ready', 1.0),\n",
       "  (u'annoying', 1.0),\n",
       "  (u'-', 1.0),\n",
       "  (u'build', 1.0),\n",
       "  (u'copying', 1.0),\n",
       "  (u'product', 1.0),\n",
       "  (u'update', 1.0),\n",
       "  (u'rolling', 1.0),\n",
       "  (u'mood', 1.0),\n",
       "  (u'attempt', 1.0),\n",
       "  (u'filetypes', 1.0),\n",
       "  (u'switch', 1.0),\n",
       "  (u'time', 1.0)],\n",
       " [(u'web-accessible management options', 9.0),\n",
       "  (u'expect lightning speed', 8.0),\n",
       "  (u'low-priced consumer nas', 8.0),\n",
       "  (u'product support involving', 8.0),\n",
       "  (u'self-supportive technically', 4.0),\n",
       "  (u'raid 0/1/5/10', 4.0),\n",
       "  (u'adding 8 tb', 4.0),\n",
       "  (u'flexible design', 4.0),\n",
       "  (u'hands functioning', 4.0),\n",
       "  (u'takes forever', 4.0),\n",
       "  (u'streaming videos', 4.0),\n",
       "  (u'storage size', 4.0),\n",
       "  (u'excellent concept', 4.0),\n",
       "  (u'design marred', 4.0),\n",
       "  (u'feature set', 4.0),\n",
       "  (u'completely hamstrung', 4.0),\n",
       "  (u'consumer-grade nas', 4.0),\n",
       "  (u'box shuts', 3.5),\n",
       "  (u'drives prone', 3.5),\n",
       "  (u'error message', 3.5),\n",
       "  (u'speed', 2.0),\n",
       "  (u'nas', 2.0),\n",
       "  (u'product', 2.0),\n",
       "  (u'drives', 1.5),\n",
       "  (u'box', 1.5),\n",
       "  (u'error', 1.5),\n",
       "  (u'cons', 1.0),\n",
       "  (u'home', 1.0),\n",
       "  (u'question', 1.0),\n",
       "  (u'cheap', 1.0),\n",
       "  (u'unexpectedly', 1.0),\n",
       "  (u'tons', 1.0),\n",
       "  (u'warning', 1.0),\n",
       "  (u'simply', 1.0),\n",
       "  (u'defects', 1.0),\n",
       "  (u'wasn', 1.0),\n",
       "  (u'corrupt', 1.0),\n",
       "  (u'impossible', 1.0),\n",
       "  (u'lengthy', 1.0),\n",
       "  (u'slow', 1.0),\n",
       "  (u'usb', 1.0),\n",
       "  (u'flat-', 1.0),\n",
       "  (u'delays', 1.0),\n",
       "  (u'firmware', 1.0),\n",
       "  (u'pros', 1.0),\n",
       "  (u'live', 1.0),\n",
       "  (u'/', 1.0),\n",
       "  (u're-flash', 1.0),\n",
       "  (u'stars', 1.0),\n",
       "  (u'cost-effective', 1.0),\n",
       "  (u'move', 1.0),\n",
       "  (u'buggy', 1.0),\n",
       "  (u'performance--', 1.0),\n",
       "  (u'host', 1.0),\n",
       "  (u'arrived', 1.0),\n",
       "  (u'copy', 1.0),\n",
       "  (u'weeks', 1.0),\n",
       "  (u'user-replaceable', 1.0),\n",
       "  (u'extendable', 1.0),\n",
       "  (u'edit', 1.0),\n",
       "  (u'identified', 1.0),\n",
       "  (u'summary', 1.0),\n",
       "  (u'stuff', 1.0),\n",
       "  (u'expecting', 1.0),\n",
       "  (u'con', 1.0),\n",
       "  (u'#1', 0)]]"
      ]
     },
     "execution_count": 15,
     "metadata": {},
     "output_type": "execute_result"
    }
   ],
   "source": [
    "pre_kw.take(2)"
   ]
  },
  {
   "cell_type": "code",
   "execution_count": 24,
   "metadata": {
    "collapsed": false
   },
   "outputs": [],
   "source": [
    "rake_kw = pre_kw.map(lambda x: [(NPExtractor(pair[0]).extract(), pair[1]) for pair in x]).map(lambda x: [pair for pair in x if pair[0]])"
   ]
  },
  {
   "cell_type": "code",
   "execution_count": 38,
   "metadata": {
    "collapsed": false
   },
   "outputs": [],
   "source": [
    "rake_kw_= rake_kw.flatMap(lambda x: x)"
   ]
  },
  {
   "cell_type": "code",
   "execution_count": 42,
   "metadata": {
    "collapsed": false
   },
   "outputs": [
    {
     "data": {
      "text/plain": [
       "[([u'administracion fuera mas completa'], 64.0),\n",
       " ([u'western digital sharespace 4tb 4-bay nas raid supports pcs'],\n",
       "  56.39523809523809),\n",
       " ([u'western digital 1tb 8mb cache total rubbish'], 49.0),\n",
       " ([u'livescribe pulse pen =', u'anoto pen products'], 48.5),\n",
       " ([u'qnap ts', u'pro ii turbo 2-bay nas'], 43.5),\n",
       " ([u'western digital sharespace 4tb 4-bay nas raid'], 38.39523809523809),\n",
       " ([u'western digital caviar'], 36.0),\n",
       " ([u'windows server', u'r2 hyperv test server'], 36.0),\n",
       " ([u'hp officejet pro l7780 network scanner'], 36.0),\n",
       " ([u'western digital', u'red nas disk'], 34.0),\n",
       " ([u'teras pero'], 33.5),\n",
       " ([u'seagate constellation es st32000644ns'], 33.333333333333336),\n",
       " ([u'cat6 cable', u'test machine'], 33.0),\n",
       " ([u'd-link dap', u'wireless dual band switch'], 32.0),\n",
       " ([u'western digital 2tb wd20ears green'], 32.0),\n",
       " ([u'deceptive space sizing-'], 31.0),\n",
       " ([u'seagate freeagent 2tb external', u'hard drive'], 29.71666666666667),\n",
       " ([u'standalone raid storage solution'], 29.25),\n",
       " ([u'verbatim mediashare =', u'axentra hipserv technology'],\n",
       "  28.442857142857143),\n",
       " ([u'buffalo linkstation quad 6tb nas'], 25.0),\n",
       " ([u'green 2t byte wd'], 25.0),\n",
       " ([u'external usb'], 25.0),\n",
       " ([u'usb hub coud'], 25.0),\n",
       " ([u'brite-view bv-5005hd streamer boxbrite-view bv-5005hd'], 25.0),\n",
       " ([u'ups smart power management'], 25.0)]"
      ]
     },
     "execution_count": 42,
     "metadata": {},
     "output_type": "execute_result"
    }
   ],
   "source": [
    "rake_kw_.takeOrdered(25, key=lambda x: -x[1])"
   ]
  },
  {
   "cell_type": "code",
   "execution_count": null,
   "metadata": {
    "collapsed": true
   },
   "outputs": [],
   "source": []
  }
 ],
 "metadata": {
  "kernelspec": {
   "display_name": "Python 2",
   "language": "python",
   "name": "python2"
  },
  "language_info": {
   "codemirror_mode": {
    "name": "ipython",
    "version": 2
   },
   "file_extension": ".py",
   "mimetype": "text/x-python",
   "name": "python",
   "nbconvert_exporter": "python",
   "pygments_lexer": "ipython2",
   "version": "2.7.10"
  }
 },
 "nbformat": 4,
 "nbformat_minor": 0
}
