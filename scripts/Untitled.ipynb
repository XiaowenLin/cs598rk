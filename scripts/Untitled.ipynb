{
 "cells": [
  {
   "cell_type": "code",
   "execution_count": 8,
   "metadata": {
    "collapsed": false
   },
   "outputs": [
    {
     "name": "stdout",
     "output_type": "stream",
     "text": [
      "Learned topics (as distributions over vocab of 11 words):\n",
      "Topic 0:\n",
      " 8.2921404395\n",
      " 11.9736546024\n",
      " 2.33726928792\n",
      " 8.15114161014\n",
      " 8.17343541426\n",
      " 6.24544307177\n",
      " 11.9208304555\n",
      " 2.41886400743\n",
      " 3.96823064233\n",
      " 9.53410668217\n",
      " 12.4030216644\n",
      "Topic 1:\n",
      " 6.84150849558\n",
      " 4.29742401585\n",
      " 5.418799435\n",
      " 26.9808508797\n",
      " 4.60641542847\n",
      " 3.32889797518\n",
      " 10.6684822769\n",
      " 1.39870102754\n",
      " 1.94314639999\n",
      " 4.66503073113\n",
      " 17.298177637\n",
      "Topic 2:\n",
      " 10.8663510649\n",
      " 12.7289213818\n",
      " 4.24393127708\n",
      " 4.86800751015\n",
      " 12.2201491573\n",
      " 12.4256589531\n",
      " 8.41068726762\n",
      " 6.18243496503\n",
      " 2.08862295767\n",
      " 9.8008625867\n",
      " 3.29880069856\n"
     ]
    }
   ],
   "source": [
    "from pyspark.mllib.clustering import LDA, LDAModel\n",
    "from pyspark.mllib.linalg import Vectors\n",
    "from pyspark import SparkContext\n",
    "# sc = SparkContext()\n",
    "\n",
    "# Load and parse the data\n",
    "data = sc.textFile(\"../../spark/data/mllib/sample_lda_data.txt\")\n",
    "parsedData = data.map(lambda line: Vectors.dense([float(x) for x in line.strip().split(' ')]))\n",
    "# Index documents with unique IDs\n",
    "corpus = parsedData.zipWithIndex().map(lambda x: [x[1], x[0]]).cache()\n",
    "\n",
    "# Cluster the documents into three topics using LDA\n",
    "ldaModel = LDA.train(corpus, k=3)\n",
    "\n",
    "# Output topics. Each is a distribution over words (matching word count vectors)\n",
    "print(\"Learned topics (as distributions over vocab of \" + str(ldaModel.vocabSize()) + \" words):\")\n",
    "topics = ldaModel.topicsMatrix()\n",
    "for topic in range(3):\n",
    "    print(\"Topic \" + str(topic) + \":\")\n",
    "    for word in range(0, ldaModel.vocabSize()):\n",
    "        print(\" \" + str(topics[word][topic]))\n",
    "\t\t\n",
    "# Save and load model\n",
    "# model.save(sc, \"myModelPath\")\n",
    "# sameModel = LDAModel.load(sc, \"myModelPath\")\n",
    "\n"
   ]
  },
  {
   "cell_type": "code",
   "execution_count": 14,
   "metadata": {
    "collapsed": false
   },
   "outputs": [
    {
     "data": {
      "text/plain": [
       "array([[  8.29214044,   6.8415085 ,  10.86635106],\n",
       "       [ 11.9736546 ,   4.29742402,  12.72892138],\n",
       "       [  2.33726929,   5.41879943,   4.24393128],\n",
       "       [  8.15114161,  26.98085088,   4.86800751],\n",
       "       [  8.17343541,   4.60641543,  12.22014916],\n",
       "       [  6.24544307,   3.32889798,  12.42565895],\n",
       "       [ 11.92083046,  10.66848228,   8.41068727],\n",
       "       [  2.41886401,   1.39870103,   6.18243497],\n",
       "       [  3.96823064,   1.9431464 ,   2.08862296],\n",
       "       [  9.53410668,   4.66503073,   9.80086259],\n",
       "       [ 12.40302166,  17.29817764,   3.2988007 ]])"
      ]
     },
     "execution_count": 14,
     "metadata": {},
     "output_type": "execute_result"
    }
   ],
   "source": [
    "topics"
   ]
  },
  {
   "cell_type": "code",
   "execution_count": 9,
   "metadata": {
    "collapsed": false
   },
   "outputs": [
    {
     "data": {
      "text/plain": [
       "[u'1 2 6 0 2 3 1 1 0 0 3', u'1 3 0 1 3 0 0 2 0 0 1', u'1 4 1 0 0 4 9 0 1 2 0']"
      ]
     },
     "execution_count": 9,
     "metadata": {},
     "output_type": "execute_result"
    }
   ],
   "source": [
    "data.take(3)"
   ]
  },
  {
   "cell_type": "code",
   "execution_count": 10,
   "metadata": {
    "collapsed": false
   },
   "outputs": [
    {
     "data": {
      "text/plain": [
       "[DenseVector([1.0, 2.0, 6.0, 0.0, 2.0, 3.0, 1.0, 1.0, 0.0, 0.0, 3.0]),\n",
       " DenseVector([1.0, 3.0, 0.0, 1.0, 3.0, 0.0, 0.0, 2.0, 0.0, 0.0, 1.0]),\n",
       " DenseVector([1.0, 4.0, 1.0, 0.0, 0.0, 4.0, 9.0, 0.0, 1.0, 2.0, 0.0])]"
      ]
     },
     "execution_count": 10,
     "metadata": {},
     "output_type": "execute_result"
    }
   ],
   "source": [
    "parsedData.take(3)"
   ]
  },
  {
   "cell_type": "code",
   "execution_count": 11,
   "metadata": {
    "collapsed": false
   },
   "outputs": [
    {
     "data": {
      "text/plain": [
       "[[0, DenseVector([1.0, 2.0, 6.0, 0.0, 2.0, 3.0, 1.0, 1.0, 0.0, 0.0, 3.0])],\n",
       " [1, DenseVector([1.0, 3.0, 0.0, 1.0, 3.0, 0.0, 0.0, 2.0, 0.0, 0.0, 1.0])],\n",
       " [2, DenseVector([1.0, 4.0, 1.0, 0.0, 0.0, 4.0, 9.0, 0.0, 1.0, 2.0, 0.0])]]"
      ]
     },
     "execution_count": 11,
     "metadata": {},
     "output_type": "execute_result"
    }
   ],
   "source": [
    "corpus.take(3)"
   ]
  },
  {
   "cell_type": "code",
   "execution_count": 12,
   "metadata": {
    "collapsed": false
   },
   "outputs": [
    {
     "data": {
      "text/plain": [
       "<pyspark.mllib.clustering.LDAModel at 0x7fefb331a850>"
      ]
     },
     "execution_count": 12,
     "metadata": {},
     "output_type": "execute_result"
    }
   ],
   "source": [
    "ldaModel"
   ]
  }
 ],
 "metadata": {
  "kernelspec": {
   "display_name": "Python 2",
   "language": "python",
   "name": "python2"
  },
  "language_info": {
   "codemirror_mode": {
    "name": "ipython",
    "version": 2
   },
   "file_extension": ".py",
   "mimetype": "text/x-python",
   "name": "python",
   "nbconvert_exporter": "python",
   "pygments_lexer": "ipython2",
   "version": "2.7.10"
  }
 },
 "nbformat": 4,
 "nbformat_minor": 0
}
